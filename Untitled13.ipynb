{
  "nbformat": 4,
  "nbformat_minor": 0,
  "metadata": {
    "colab": {
      "provenance": [],
      "authorship_tag": "ABX9TyMs+aSD0fjLqT3vCjGVmgX6",
      "include_colab_link": true
    },
    "kernelspec": {
      "name": "python3",
      "display_name": "Python 3"
    },
    "language_info": {
      "name": "python"
    }
  },
  "cells": [
    {
      "cell_type": "markdown",
      "metadata": {
        "id": "view-in-github",
        "colab_type": "text"
      },
      "source": [
        "<a href=\"https://colab.research.google.com/github/badawi2023/coursera-test/blob/main/Untitled13.ipynb\" target=\"_parent\"><img src=\"https://colab.research.google.com/assets/colab-badge.svg\" alt=\"Open In Colab\"/></a>"
      ]
    },
    {
      "cell_type": "code",
      "execution_count": null,
      "metadata": {
        "id": "3FIjf33tBGlo"
      },
      "outputs": [],
      "source": [
        "l1=[]\n",
        "n=int(input(\"entrer la longueur de la liste l1:\"))\n",
        "for i in range(n):\n",
        "  a=int(input(\"saisir une valeure:\"))\n",
        "  l1.append(a)\n",
        "print(l1)\n",
        "l2=[]\n",
        "n=int(input(\"entrer la longueur de la liste L2:\"))\n",
        "for i in range(n):\n",
        "  a=int(input(\"saisir une valeure:\"))\n",
        "  l2.append(a)\n",
        "print(l2)\n",
        "p=[]\n",
        "for a in l1 :\n",
        "  if a in l2:\n",
        "     p.append(a)\n",
        "print(p)\n",
        "\n",
        "\n",
        "\n",
        "\n",
        "\n",
        "\n",
        "\n",
        "\n",
        "\n",
        "\n",
        "\n",
        "\n",
        "\n",
        "\n",
        "\n",
        "\n"
      ]
    },
    {
      "cell_type": "code",
      "source": [],
      "metadata": {
        "id": "iME63Y2cJnqu"
      },
      "execution_count": null,
      "outputs": []
    },
    {
      "cell_type": "code",
      "source": [],
      "metadata": {
        "id": "QZjH8iwmJdQA"
      },
      "execution_count": null,
      "outputs": []
    },
    {
      "cell_type": "code",
      "source": [],
      "metadata": {
        "id": "SC3KFHM8IDy9"
      },
      "execution_count": null,
      "outputs": []
    },
    {
      "cell_type": "code",
      "source": [],
      "metadata": {
        "id": "raEoImwrID2t"
      },
      "execution_count": null,
      "outputs": []
    },
    {
      "cell_type": "code",
      "source": [
        "l"
      ],
      "metadata": {
        "id": "DgWU8ye5ID6L"
      },
      "execution_count": null,
      "outputs": []
    },
    {
      "cell_type": "code",
      "source": [],
      "metadata": {
        "id": "rn1lg6OnGXkG"
      },
      "execution_count": null,
      "outputs": []
    }
  ]
}