{
  "nbformat": 4,
  "nbformat_minor": 0,
  "metadata": {
    "colab": {
      "provenance": [],
      "authorship_tag": "ABX9TyMWT74ftfIjQTezAjjBOwIC",
      "include_colab_link": true
    },
    "kernelspec": {
      "name": "python3",
      "display_name": "Python 3"
    },
    "language_info": {
      "name": "python"
    }
  },
  "cells": [
    {
      "cell_type": "markdown",
      "metadata": {
        "id": "view-in-github",
        "colab_type": "text"
      },
      "source": [
        "<a href=\"https://colab.research.google.com/github/badawi2023/coursera-test/blob/main/remplir_une_liste.ipynb\" target=\"_parent\"><img src=\"https://colab.research.google.com/assets/colab-badge.svg\" alt=\"Open In Colab\"/></a>"
      ]
    },
    {
      "cell_type": "code",
      "execution_count": 2,
      "metadata": {
        "colab": {
          "base_uri": "https://localhost:8080/"
        },
        "id": "-j724lGPwv1n",
        "outputId": "f9b73eac-a794-4ed7-e5da-b91e79df9c64"
      },
      "outputs": [
        {
          "output_type": "stream",
          "name": "stdout",
          "text": [
            "entrer la longueur de la liste:4\n",
            "aisir une valeure:3\n",
            "aisir une valeure:7\n",
            "aisir une valeure:8\n",
            "aisir une valeure:8\n",
            "[3, 7, 8, 8]\n"
          ]
        }
      ],
      "source": [
        "#remplir une liste\n",
        "l=[]\n",
        "n=int(input(\"entrer la longueur de la liste:\"))\n",
        "for i in range(n):\n",
        "  a=int(input(\"aisir une valeure:\"))\n",
        "  l.append(a)\n",
        "print(l)"
      ]
    }
  ]
}