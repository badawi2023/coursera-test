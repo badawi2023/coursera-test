{
  "nbformat": 4,
  "nbformat_minor": 0,
  "metadata": {
    "colab": {
      "provenance": [],
      "authorship_tag": "ABX9TyOOLPKwVunIP5WjfBM48KMY",
      "include_colab_link": true
    },
    "kernelspec": {
      "name": "python3",
      "display_name": "Python 3"
    },
    "language_info": {
      "name": "python"
    }
  },
  "cells": [
    {
      "cell_type": "markdown",
      "metadata": {
        "id": "view-in-github",
        "colab_type": "text"
      },
      "source": [
        "<a href=\"https://colab.research.google.com/github/badawi2023/coursera-test/blob/main/remplir_une_liste.ipynb\" target=\"_parent\"><img src=\"https://colab.research.google.com/assets/colab-badge.svg\" alt=\"Open In Colab\"/></a>"
      ]
    },
    {
      "cell_type": "code",
      "execution_count": null,
      "metadata": {
        "id": "-j724lGPwv1n"
      },
      "outputs": [],
      "source": []
    },
    {
      "cell_type": "code",
      "source": [
        "#remplir une liste\n",
        "l=[]\n",
        "n=int(input(\"entrer la longueur de la liste:\"))\n",
        "for i in range(n):\n",
        "  a=int(input(\"saisir une valeure:\"))\n",
        "  l.append(a)\n",
        "print(l)\n",
        "l1=l.sort()\n",
        "print(l1)"
      ],
      "metadata": {
        "colab": {
          "base_uri": "https://localhost:8080/"
        },
        "id": "qpr0yzxK05WD",
        "outputId": "25a7f100-6f6b-4a95-ff67-842bfb11f698"
      },
      "execution_count": 15,
      "outputs": [
        {
          "output_type": "stream",
          "name": "stdout",
          "text": [
            "entrer la longueur de la liste:4\n",
            "aisir une valeure:3\n",
            "aisir une valeure:2\n",
            "aisir une valeure:8\n",
            "aisir une valeure:6\n",
            "[]\n",
            "None\n"
          ]
        }
      ]
    },
    {
      "cell_type": "code",
      "source": [],
      "metadata": {
        "id": "nSCYpYEs00mM"
      },
      "execution_count": null,
      "outputs": []
    },
    {
      "cell_type": "code",
      "source": [
        "#trier une liste d une facon croissante sans modifier la premiere liste\n",
        "l=[2,5,1,8]\n",
        "p=sorted(l)\n",
        "print(p)\n",
        "print(l)\n"
      ],
      "metadata": {
        "colab": {
          "base_uri": "https://localhost:8080/"
        },
        "id": "ER6K5ayOyt9i",
        "outputId": "0f55a754-6cb4-42f8-b104-ecd80c442ccb"
      },
      "execution_count": 22,
      "outputs": [
        {
          "output_type": "stream",
          "name": "stdout",
          "text": [
            "[1, 2, 5, 8]\n",
            "[2, 5, 1, 8]\n"
          ]
        }
      ]
    }
  ]
}