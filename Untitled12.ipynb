{
  "nbformat": 4,
  "nbformat_minor": 0,
  "metadata": {
    "colab": {
      "provenance": [],
      "authorship_tag": "ABX9TyMLwWrZd4Mbu+NiaIB8l8Rd",
      "include_colab_link": true
    },
    "kernelspec": {
      "name": "python3",
      "display_name": "Python 3"
    },
    "language_info": {
      "name": "python"
    }
  },
  "cells": [
    {
      "cell_type": "markdown",
      "metadata": {
        "id": "view-in-github",
        "colab_type": "text"
      },
      "source": [
        "<a href=\"https://colab.research.google.com/github/badawi2023/coursera-test/blob/main/Untitled12.ipynb\" target=\"_parent\"><img src=\"https://colab.research.google.com/assets/colab-badge.svg\" alt=\"Open In Colab\"/></a>"
      ]
    },
    {
      "cell_type": "code",
      "execution_count": 4,
      "metadata": {
        "colab": {
          "base_uri": "https://localhost:8080/"
        },
        "id": "aXtodPHymfrP",
        "outputId": "bbf25130-a2a1-431b-f1d7-8bb9d5253faf"
      },
      "outputs": [
        {
          "output_type": "stream",
          "name": "stdout",
          "text": [
            "[-1, 48, 5]\n"
          ]
        }
      ],
      "source": [
        "l=[-1,17,23,48,5]\n",
        "del l[1:3]\n",
        "print(l)"
      ]
    },
    {
      "cell_type": "code",
      "source": [
        "l=[]\n",
        "n=int(input(\"saisir la longueur de la liste:\"))\n",
        "for i in range(n):\n",
        "  a=int(input(\"saisir un element:\"))\n",
        "  l.append(a)\n",
        "l.sort(reverse=True)\n",
        "print(l)\n"
      ],
      "metadata": {
        "colab": {
          "base_uri": "https://localhost:8080/"
        },
        "id": "0S8xMZfipQQR",
        "outputId": "4418ef20-7fbb-450e-f8bd-65c6a448ea32"
      },
      "execution_count": 11,
      "outputs": [
        {
          "output_type": "stream",
          "name": "stdout",
          "text": [
            "saisir la longueur de la liste:3\n",
            "saisir un element:4\n",
            "saisir un element:1\n",
            "saisir un element:7\n",
            "[7, 4, 1]\n"
          ]
        }
      ]
    },
    {
      "cell_type": "code",
      "source": [
        "l=[1,5,7,4]\n",
        "l.reverse()\n",
        "print(l)"
      ],
      "metadata": {
        "colab": {
          "base_uri": "https://localhost:8080/"
        },
        "id": "jziTUZy7vRrK",
        "outputId": "043681e3-abcf-4a69-d5e6-205cf214c2dd"
      },
      "execution_count": 12,
      "outputs": [
        {
          "output_type": "stream",
          "name": "stdout",
          "text": [
            "[4, 7, 5, 1]\n"
          ]
        }
      ]
    },
    {
      "cell_type": "code",
      "source": [
        "\n",
        "l=[1,5,7,4]\n",
        "s=0\n",
        "for i in l:\n",
        "  s=s+i\n",
        "print(s)\n",
        "\n",
        "\n"
      ],
      "metadata": {
        "colab": {
          "base_uri": "https://localhost:8080/"
        },
        "id": "vz5gFUt2xBUB",
        "outputId": "037159ce-9c41-4ba8-fe18-51554173db18"
      },
      "execution_count": 26,
      "outputs": [
        {
          "output_type": "stream",
          "name": "stdout",
          "text": [
            "17\n"
          ]
        }
      ]
    },
    {
      "cell_type": "code",
      "source": [
        "l=[1,5,7,4]\n",
        "s=0\n",
        "for i in range(len(l)):\n",
        "  s=s+l[i]\n",
        "print(s)"
      ],
      "metadata": {
        "colab": {
          "base_uri": "https://localhost:8080/"
        },
        "id": "kcPgZwY22b8U",
        "outputId": "48e37400-120e-46f7-d645-3a7db96117f3"
      },
      "execution_count": 27,
      "outputs": [
        {
          "output_type": "stream",
          "name": "stdout",
          "text": [
            "17\n"
          ]
        }
      ]
    },
    {
      "cell_type": "code",
      "source": [
        "l=[1,5,7,4]\n",
        "a=1\n",
        "for i in rang(len(l)):\n",
        "  if a<l[i]:\n",
        "    max(l)=\n",
        "\n"
      ],
      "metadata": {
        "colab": {
          "base_uri": "https://localhost:8080/",
          "height": 108
        },
        "id": "pl6GHRV_3CxC",
        "outputId": "518114e4-9144-44bd-cc6d-fdad751d7c76"
      },
      "execution_count": 30,
      "outputs": [
        {
          "output_type": "error",
          "ename": "SyntaxError",
          "evalue": "cannot assign to function call here. Maybe you meant '==' instead of '='? (<ipython-input-30-cfbca89afb34>, line 2)",
          "traceback": [
            "\u001b[0;36m  File \u001b[0;32m\"<ipython-input-30-cfbca89afb34>\"\u001b[0;36m, line \u001b[0;32m2\u001b[0m\n\u001b[0;31m    ma(l)=1\u001b[0m\n\u001b[0m    ^\u001b[0m\n\u001b[0;31mSyntaxError\u001b[0m\u001b[0;31m:\u001b[0m cannot assign to function call here. Maybe you meant '==' instead of '='?\n"
          ]
        }
      ]
    },
    {
      "cell_type": "code",
      "source": [],
      "metadata": {
        "id": "9aE71_bj2WhP"
      },
      "execution_count": null,
      "outputs": []
    },
    {
      "cell_type": "code",
      "source": [],
      "metadata": {
        "id": "oH_YpD5S1Kt4"
      },
      "execution_count": null,
      "outputs": []
    },
    {
      "cell_type": "code",
      "source": [
        "l=[1,3,7]\n",
        "for i in"
      ],
      "metadata": {
        "id": "Zw9LYE25wgYg"
      },
      "execution_count": null,
      "outputs": []
    },
    {
      "cell_type": "code",
      "source": [
        "# Créer une liste vide\n",
        "l = []\n",
        "\n",
        "# Ajouter plusieurs éléments à la fois\n",
        "l.extend([1, 2, \"a\"])\n",
        "\n",
        "print(l)"
      ],
      "metadata": {
        "colab": {
          "base_uri": "https://localhost:8080/"
        },
        "id": "cGJK0EWBsw0c",
        "outputId": "1c517743-e62f-466c-e64e-9780872a7b50"
      },
      "execution_count": 9,
      "outputs": [
        {
          "output_type": "stream",
          "name": "stdout",
          "text": [
            "[1, 2, 'a']\n"
          ]
        }
      ]
    }
  ]
}